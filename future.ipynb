{
 "cells": [
  {
   "cell_type": "code",
   "execution_count": 2,
   "metadata": {},
   "outputs": [],
   "source": [
    "import numpy as np\n",
    "import pandas as pd\n",
    "import matplotlib.pyplot as plt\n",
    "import seaborn as sns\n",
    "\n",
    "from loguru import logger\n",
    "from sklearn.preprocessing import MinMaxScaler\n",
    "from tensorflow.keras.models import Sequential\n",
    "from tensorflow.keras.layers import LSTM, Dense, Dropout\n",
    "from tensorflow.keras.optimizers import Adam\n",
    "from tensorflow.keras.optimizers.schedules import ExponentialDecay\n",
    "\n",
    "%matplotlib inline"
   ]
  },
  {
   "cell_type": "code",
   "execution_count": 5,
   "metadata": {},
   "outputs": [
    {
     "name": "stderr",
     "output_type": "stream",
     "text": [
      "2023-10-14 08:36:11.260 | INFO     | __main__:<module>:1 - Loading Data Set\n"
     ]
    }
   ],
   "source": [
    "logger.info('Loading Data Set')\n",
    "df = pd.read_csv('../data/timeseries.csv', sep=',', parse_dates=[0],\n",
    "                 date_format='%Y%m%d', low_memory=True)\n",
    "\n",
    "df_future = pd.read_csv('../data/future.csv', sep=',', parse_dates=[0],\n",
    "                 date_format='%Y%m%d', low_memory=True)"
   ]
  },
  {
   "cell_type": "code",
   "execution_count": 6,
   "metadata": {},
   "outputs": [
    {
     "data": {
      "text/html": [
       "<div>\n",
       "<style scoped>\n",
       "    .dataframe tbody tr th:only-of-type {\n",
       "        vertical-align: middle;\n",
       "    }\n",
       "\n",
       "    .dataframe tbody tr th {\n",
       "        vertical-align: top;\n",
       "    }\n",
       "\n",
       "    .dataframe thead th {\n",
       "        text-align: right;\n",
       "    }\n",
       "</style>\n",
       "<table border=\"1\" class=\"dataframe\">\n",
       "  <thead>\n",
       "    <tr style=\"text-align: right;\">\n",
       "      <th></th>\n",
       "      <th>DateKey</th>\n",
       "      <th>PersianStr</th>\n",
       "      <th>persian_holiday</th>\n",
       "      <th>SR_TotalGrossWeight</th>\n",
       "      <th>SR_TotalNetWeight</th>\n",
       "      <th>SR_TotalSalePrice</th>\n",
       "    </tr>\n",
       "  </thead>\n",
       "  <tbody>\n",
       "    <tr>\n",
       "      <th>2022</th>\n",
       "      <td>2023-10-03</td>\n",
       "      <td>1402/07/11</td>\n",
       "      <td>1</td>\n",
       "      <td>NaN</td>\n",
       "      <td>NaN</td>\n",
       "      <td>NaN</td>\n",
       "    </tr>\n",
       "    <tr>\n",
       "      <th>2023</th>\n",
       "      <td>2023-10-04</td>\n",
       "      <td>1402/07/12</td>\n",
       "      <td>0</td>\n",
       "      <td>279816224.0</td>\n",
       "      <td>248326476.0</td>\n",
       "      <td>3.654001e+11</td>\n",
       "    </tr>\n",
       "    <tr>\n",
       "      <th>2024</th>\n",
       "      <td>2023-10-05</td>\n",
       "      <td>1402/07/13</td>\n",
       "      <td>0</td>\n",
       "      <td>239947336.0</td>\n",
       "      <td>214167012.0</td>\n",
       "      <td>3.242768e+11</td>\n",
       "    </tr>\n",
       "    <tr>\n",
       "      <th>2025</th>\n",
       "      <td>2023-10-06</td>\n",
       "      <td>1402/07/14</td>\n",
       "      <td>1</td>\n",
       "      <td>NaN</td>\n",
       "      <td>NaN</td>\n",
       "      <td>NaN</td>\n",
       "    </tr>\n",
       "    <tr>\n",
       "      <th>2026</th>\n",
       "      <td>2023-10-07</td>\n",
       "      <td>1402/07/15</td>\n",
       "      <td>0</td>\n",
       "      <td>286270861.0</td>\n",
       "      <td>260587322.0</td>\n",
       "      <td>3.378790e+11</td>\n",
       "    </tr>\n",
       "  </tbody>\n",
       "</table>\n",
       "</div>"
      ],
      "text/plain": [
       "        DateKey  PersianStr  persian_holiday  SR_TotalGrossWeight  \\\n",
       "2022 2023-10-03  1402/07/11                1                  NaN   \n",
       "2023 2023-10-04  1402/07/12                0          279816224.0   \n",
       "2024 2023-10-05  1402/07/13                0          239947336.0   \n",
       "2025 2023-10-06  1402/07/14                1                  NaN   \n",
       "2026 2023-10-07  1402/07/15                0          286270861.0   \n",
       "\n",
       "      SR_TotalNetWeight  SR_TotalSalePrice  \n",
       "2022                NaN                NaN  \n",
       "2023        248326476.0       3.654001e+11  \n",
       "2024        214167012.0       3.242768e+11  \n",
       "2025                NaN                NaN  \n",
       "2026        260587322.0       3.378790e+11  "
      ]
     },
     "execution_count": 6,
     "metadata": {},
     "output_type": "execute_result"
    }
   ],
   "source": [
    "df.tail()"
   ]
  },
  {
   "cell_type": "code",
   "execution_count": 7,
   "metadata": {},
   "outputs": [
    {
     "data": {
      "text/html": [
       "<div>\n",
       "<style scoped>\n",
       "    .dataframe tbody tr th:only-of-type {\n",
       "        vertical-align: middle;\n",
       "    }\n",
       "\n",
       "    .dataframe tbody tr th {\n",
       "        vertical-align: top;\n",
       "    }\n",
       "\n",
       "    .dataframe thead th {\n",
       "        text-align: right;\n",
       "    }\n",
       "</style>\n",
       "<table border=\"1\" class=\"dataframe\">\n",
       "  <thead>\n",
       "    <tr style=\"text-align: right;\">\n",
       "      <th></th>\n",
       "      <th>DateKey</th>\n",
       "      <th>PersianStr</th>\n",
       "      <th>persian_holiday</th>\n",
       "      <th>SR_TotalGrossWeight</th>\n",
       "      <th>SR_TotalNetWeight</th>\n",
       "      <th>SR_TotalSalePrice</th>\n",
       "    </tr>\n",
       "  </thead>\n",
       "  <tbody>\n",
       "    <tr>\n",
       "      <th>0</th>\n",
       "      <td>2023-10-07</td>\n",
       "      <td>1402/07/15</td>\n",
       "      <td>0</td>\n",
       "      <td>286270861.0</td>\n",
       "      <td>260587322.0</td>\n",
       "      <td>3.378790e+11</td>\n",
       "    </tr>\n",
       "    <tr>\n",
       "      <th>1</th>\n",
       "      <td>2023-10-08</td>\n",
       "      <td>1402/07/16</td>\n",
       "      <td>0</td>\n",
       "      <td>231779932.0</td>\n",
       "      <td>207541502.0</td>\n",
       "      <td>3.122793e+11</td>\n",
       "    </tr>\n",
       "    <tr>\n",
       "      <th>2</th>\n",
       "      <td>2023-10-09</td>\n",
       "      <td>1402/07/17</td>\n",
       "      <td>0</td>\n",
       "      <td>232621189.0</td>\n",
       "      <td>204296987.0</td>\n",
       "      <td>3.128464e+11</td>\n",
       "    </tr>\n",
       "    <tr>\n",
       "      <th>3</th>\n",
       "      <td>2023-10-10</td>\n",
       "      <td>1402/07/18</td>\n",
       "      <td>0</td>\n",
       "      <td>210994375.0</td>\n",
       "      <td>189357045.0</td>\n",
       "      <td>2.737864e+11</td>\n",
       "    </tr>\n",
       "    <tr>\n",
       "      <th>4</th>\n",
       "      <td>2023-10-11</td>\n",
       "      <td>1402/07/19</td>\n",
       "      <td>0</td>\n",
       "      <td>165964284.0</td>\n",
       "      <td>150034232.0</td>\n",
       "      <td>2.168524e+11</td>\n",
       "    </tr>\n",
       "    <tr>\n",
       "      <th>5</th>\n",
       "      <td>2023-10-12</td>\n",
       "      <td>1402/07/20</td>\n",
       "      <td>0</td>\n",
       "      <td>217391860.0</td>\n",
       "      <td>193849965.0</td>\n",
       "      <td>2.822693e+11</td>\n",
       "    </tr>\n",
       "    <tr>\n",
       "      <th>6</th>\n",
       "      <td>2023-10-13</td>\n",
       "      <td>1402/07/21</td>\n",
       "      <td>1</td>\n",
       "      <td>NaN</td>\n",
       "      <td>NaN</td>\n",
       "      <td>NaN</td>\n",
       "    </tr>\n",
       "  </tbody>\n",
       "</table>\n",
       "</div>"
      ],
      "text/plain": [
       "     DateKey  PersianStr  persian_holiday  SR_TotalGrossWeight  \\\n",
       "0 2023-10-07  1402/07/15                0          286270861.0   \n",
       "1 2023-10-08  1402/07/16                0          231779932.0   \n",
       "2 2023-10-09  1402/07/17                0          232621189.0   \n",
       "3 2023-10-10  1402/07/18                0          210994375.0   \n",
       "4 2023-10-11  1402/07/19                0          165964284.0   \n",
       "5 2023-10-12  1402/07/20                0          217391860.0   \n",
       "6 2023-10-13  1402/07/21                1                  NaN   \n",
       "\n",
       "   SR_TotalNetWeight  SR_TotalSalePrice  \n",
       "0        260587322.0       3.378790e+11  \n",
       "1        207541502.0       3.122793e+11  \n",
       "2        204296987.0       3.128464e+11  \n",
       "3        189357045.0       2.737864e+11  \n",
       "4        150034232.0       2.168524e+11  \n",
       "5        193849965.0       2.822693e+11  \n",
       "6                NaN                NaN  "
      ]
     },
     "execution_count": 7,
     "metadata": {},
     "output_type": "execute_result"
    }
   ],
   "source": [
    "df_future"
   ]
  },
  {
   "cell_type": "code",
   "execution_count": null,
   "metadata": {},
   "outputs": [],
   "source": []
  },
  {
   "cell_type": "code",
   "execution_count": 8,
   "metadata": {},
   "outputs": [],
   "source": [
    "df['Office_holiday'] = 0\n",
    "office_holiday = list(df.query('persian_holiday == True and SR_TotalNetWeight == 0').index)\n",
    "holiday_list = list(df.query('SR_TotalSalePrice == 0 and persian_holiday == False').index)\n",
    "\n",
    "for indx in holiday_list:\n",
    "    df.loc[indx, 'persian_holiday'] = 1\n",
    "\n",
    "\n",
    "for indx in df.index:\n",
    "    if (df.loc[indx, 'persian_holiday'] == True) and (indx in office_holiday):\n",
    "        df.loc[indx, 'Office_holiday'] = 1\n",
    "    continue\n",
    "\n",
    "for indx in list(df.query('SR_TotalSalePrice < 0').index):\n",
    "    df.loc[indx, 'SR_TotalSalePrice'] = 0\n",
    "\n",
    "df.dropna(inplace=True)\n",
    "df.drop(columns='PersianStr', inplace=True)\n",
    "df.set_index('DateKey', inplace=True)"
   ]
  },
  {
   "cell_type": "code",
   "execution_count": 9,
   "metadata": {},
   "outputs": [
    {
     "data": {
      "text/html": [
       "<div>\n",
       "<style scoped>\n",
       "    .dataframe tbody tr th:only-of-type {\n",
       "        vertical-align: middle;\n",
       "    }\n",
       "\n",
       "    .dataframe tbody tr th {\n",
       "        vertical-align: top;\n",
       "    }\n",
       "\n",
       "    .dataframe thead th {\n",
       "        text-align: right;\n",
       "    }\n",
       "</style>\n",
       "<table border=\"1\" class=\"dataframe\">\n",
       "  <thead>\n",
       "    <tr style=\"text-align: right;\">\n",
       "      <th></th>\n",
       "      <th>SR_TotalSalePrice</th>\n",
       "    </tr>\n",
       "    <tr>\n",
       "      <th>DateKey</th>\n",
       "      <th></th>\n",
       "    </tr>\n",
       "  </thead>\n",
       "  <tbody>\n",
       "    <tr>\n",
       "      <th>2018-03-26</th>\n",
       "      <td>9.331029e+08</td>\n",
       "    </tr>\n",
       "    <tr>\n",
       "      <th>2018-03-27</th>\n",
       "      <td>1.284765e+09</td>\n",
       "    </tr>\n",
       "    <tr>\n",
       "      <th>2018-03-28</th>\n",
       "      <td>2.225602e+09</td>\n",
       "    </tr>\n",
       "    <tr>\n",
       "      <th>2018-03-29</th>\n",
       "      <td>1.590548e+09</td>\n",
       "    </tr>\n",
       "    <tr>\n",
       "      <th>2018-04-03</th>\n",
       "      <td>1.787774e+09</td>\n",
       "    </tr>\n",
       "    <tr>\n",
       "      <th>...</th>\n",
       "      <td>...</td>\n",
       "    </tr>\n",
       "    <tr>\n",
       "      <th>2023-10-01</th>\n",
       "      <td>3.196061e+11</td>\n",
       "    </tr>\n",
       "    <tr>\n",
       "      <th>2023-10-02</th>\n",
       "      <td>3.702966e+11</td>\n",
       "    </tr>\n",
       "    <tr>\n",
       "      <th>2023-10-04</th>\n",
       "      <td>3.654001e+11</td>\n",
       "    </tr>\n",
       "    <tr>\n",
       "      <th>2023-10-05</th>\n",
       "      <td>3.242768e+11</td>\n",
       "    </tr>\n",
       "    <tr>\n",
       "      <th>2023-10-07</th>\n",
       "      <td>3.378790e+11</td>\n",
       "    </tr>\n",
       "  </tbody>\n",
       "</table>\n",
       "<p>1605 rows × 1 columns</p>\n",
       "</div>"
      ],
      "text/plain": [
       "            SR_TotalSalePrice\n",
       "DateKey                      \n",
       "2018-03-26       9.331029e+08\n",
       "2018-03-27       1.284765e+09\n",
       "2018-03-28       2.225602e+09\n",
       "2018-03-29       1.590548e+09\n",
       "2018-04-03       1.787774e+09\n",
       "...                       ...\n",
       "2023-10-01       3.196061e+11\n",
       "2023-10-02       3.702966e+11\n",
       "2023-10-04       3.654001e+11\n",
       "2023-10-05       3.242768e+11\n",
       "2023-10-07       3.378790e+11\n",
       "\n",
       "[1605 rows x 1 columns]"
      ]
     },
     "execution_count": 9,
     "metadata": {},
     "output_type": "execute_result"
    }
   ],
   "source": [
    "df_sale = df[['SR_TotalSalePrice']].copy()\n",
    "df_sale"
   ]
  },
  {
   "cell_type": "code",
   "execution_count": 10,
   "metadata": {},
   "outputs": [],
   "source": [
    "# Scale the data\n",
    "scaler = MinMaxScaler()\n",
    "scaled_data = scaler.fit_transform(df_sale)"
   ]
  },
  {
   "cell_type": "code",
   "execution_count": 11,
   "metadata": {},
   "outputs": [
    {
     "data": {
      "text/plain": [
       "((1284, 7, 1), (314, 7, 1), (1284,), (314,))"
      ]
     },
     "execution_count": 11,
     "metadata": {},
     "output_type": "execute_result"
    }
   ],
   "source": [
    "# Number of past time steps to consider for prediction\n",
    "sequence_length = 7\n",
    "\n",
    "# Prepare the data for LSTM training\n",
    "X = []\n",
    "y = []\n",
    "for i in range(sequence_length, len(df_sale)):\n",
    "    X.append(scaled_data[i - sequence_length:i])\n",
    "    y.append(scaled_data[i, 0])  # Predicting the 'price' column\n",
    "\n",
    "X = np.array(X)\n",
    "y = np.array(y)\n",
    "\n",
    "# Split the data into training and testing sets\n",
    "train_size = int(0.8 * len(df_sale))\n",
    "X_train, X_test, y_train, y_test = X[:train_size], X[train_size:], \\\n",
    "    y[:train_size], y[train_size:]\n",
    "\n",
    "X_train.shape, X_test.shape, y_train.shape, y_test.shape"
   ]
  },
  {
   "cell_type": "code",
   "execution_count": 12,
   "metadata": {},
   "outputs": [
    {
     "name": "stderr",
     "output_type": "stream",
     "text": [
      "2023-10-14 08:36:47.105 | INFO     | __main__:<module>:2 - Buliding LSTM Model\n",
      "2023-10-14 08:36:47.111024: I tensorflow/core/common_runtime/process_util.cc:146] Creating new thread pool with default inter op setting: 2. Tune using inter_op_parallelism_threads for best performance.\n",
      "2023-10-14 08:36:47.247 | INFO     | __main__:<module>:25 - Compile Model\n",
      "2023-10-14 08:36:47.250 | INFO     | __main__:<module>:29 - Training Model...\n",
      "2023-10-14 08:37:12.484 | INFO     | __main__:<module>:31 - Training Model is Done!\n"
     ]
    }
   ],
   "source": [
    "# Build the LSTM model\n",
    "logger.info('Buliding LSTM Model')\n",
    "regressor = Sequential()\n",
    "\n",
    "# Define the learning rate schedule\n",
    "lr_schedule = ExponentialDecay(initial_learning_rate=1e-3,\n",
    "                               decay_steps=10000, decay_rate=1e-5)\n",
    "\n",
    "opt = Adam(learning_rate=lr_schedule)\n",
    "\n",
    "# Add the LSTM layers and dropout\n",
    "regressor.add(LSTM(units=50, activation='relu',\n",
    "                   input_shape=(X_train.shape[1], X_train.shape[2]),\n",
    "                   return_sequences=True))\n",
    "\n",
    "regressor.add(Dropout(0.2))\n",
    "\n",
    "regressor.add(LSTM(units=50, activation='relu', return_sequences=False))\n",
    "regressor.add(Dropout(0.2))\n",
    "\n",
    "# Add the output layer\n",
    "regressor.add(Dense(units=1, activation='linear'))\n",
    "\n",
    "# Compile the model\n",
    "logger.info('Compile Model')\n",
    "regressor.compile(optimizer=opt, loss='mean_squared_error')\n",
    "\n",
    "# Train the model\n",
    "logger.info('Training Model...')\n",
    "regressor.fit(X_train, y_train, epochs=100, batch_size=32, verbose=0)\n",
    "logger.info('Training Model is Done!')"
   ]
  },
  {
   "cell_type": "code",
   "execution_count": 13,
   "metadata": {},
   "outputs": [
    {
     "name": "stderr",
     "output_type": "stream",
     "text": [
      "2023-10-14 08:37:19.194 | INFO     | __main__:<module>:2 - Evaluate Model\n"
     ]
    },
    {
     "name": "stdout",
     "output_type": "stream",
     "text": [
      "10/10 [==============================] - 0s 5ms/step - loss: 0.0148\n",
      "Test Loss: 0.014761902391910553\n"
     ]
    }
   ],
   "source": [
    "# Evaluate the model on the test data\n",
    "logger.info('Evaluate Model')\n",
    "test_loss = regressor.evaluate(X_test, y_test)\n",
    "print(f\"Test Loss: {test_loss}\")"
   ]
  },
  {
   "cell_type": "code",
   "execution_count": 14,
   "metadata": {},
   "outputs": [
    {
     "name": "stdout",
     "output_type": "stream",
     "text": [
      "10/10 [==============================] - 0s 4ms/step\n"
     ]
    }
   ],
   "source": [
    "prediction = regressor.predict(X_test).flatten()\n",
    "df_predicted = pd.DataFrame(data={'prediction': prediction, 'Actuals': y_test})"
   ]
  },
  {
   "cell_type": "code",
   "execution_count": 15,
   "metadata": {},
   "outputs": [
    {
     "name": "stderr",
     "output_type": "stream",
     "text": [
      "2023-10-14 08:37:31.889 | INFO     | __main__:<module>:10 - Start Forecasting Futures ...\n"
     ]
    },
    {
     "name": "stdout",
     "output_type": "stream",
     "text": [
      "1/1 [==============================] - 0s 13ms/step\n",
      "1/1 [==============================] - 0s 13ms/step\n",
      "1/1 [==============================] - 0s 13ms/step\n",
      "1/1 [==============================] - 0s 23ms/step\n",
      "1/1 [==============================] - 0s 13ms/step\n",
      "1/1 [==============================] - 0s 13ms/step\n",
      "1/1 [==============================] - 0s 12ms/step\n",
      "1/1 [==============================] - 0s 12ms/step\n",
      "1/1 [==============================] - 0s 12ms/step\n",
      "1/1 [==============================] - 0s 12ms/step\n",
      "1/1 [==============================] - 0s 15ms/step\n",
      "1/1 [==============================] - 0s 12ms/step\n"
     ]
    },
    {
     "name": "stderr",
     "output_type": "stream",
     "text": [
      "2023-10-14 08:37:32.284 | INFO     | __main__:<module>:23 - Forecasting is Done!\n"
     ]
    }
   ],
   "source": [
    "# Define the number of steps you want to forecast\n",
    "forecast_steps = 12\n",
    "\n",
    "# Initialize an array to store the forecasted values\n",
    "forecasted_values = []\n",
    "\n",
    "# Use the last 'sequence_length' data points\n",
    "current_data = scaled_data[-sequence_length:].reshape(1, sequence_length, df_sale.shape[1])\n",
    "\n",
    "logger.info('Start Forecasting Futures ...')\n",
    "\n",
    "# Make forecasts for each future time step\n",
    "for _ in range(forecast_steps):\n",
    "    # Predict the next value\n",
    "    next_value = regressor.predict(current_data)\n",
    "\n",
    "    # Append the predicted value to the forecasted_values array\n",
    "    forecasted_values.append(next_value)\n",
    "\n",
    "    # Update current_data with the predicted value for the next iteration\n",
    "    current_data = np.append(current_data[:, 1:, :], next_value[:, np.newaxis], axis=1)  # FIXME:\n",
    "\n",
    "logger.info('Forecasting is Done!')"
   ]
  },
  {
   "cell_type": "code",
   "execution_count": 16,
   "metadata": {},
   "outputs": [
    {
     "data": {
      "text/plain": [
       "[array([[0.5609843]], dtype=float32),\n",
       " array([[0.5532072]], dtype=float32),\n",
       " array([[0.5467217]], dtype=float32),\n",
       " array([[0.5383841]], dtype=float32),\n",
       " array([[0.524879]], dtype=float32),\n",
       " array([[0.5108884]], dtype=float32),\n",
       " array([[0.50073874]], dtype=float32),\n",
       " array([[0.4882902]], dtype=float32),\n",
       " array([[0.47851834]], dtype=float32),\n",
       " array([[0.4687427]], dtype=float32),\n",
       " array([[0.45901817]], dtype=float32),\n",
       " array([[0.44941]], dtype=float32)]"
      ]
     },
     "execution_count": 16,
     "metadata": {},
     "output_type": "execute_result"
    }
   ],
   "source": [
    "forecasted_values"
   ]
  },
  {
   "cell_type": "code",
   "execution_count": 17,
   "metadata": {},
   "outputs": [],
   "source": [
    "forecasted_values = np.array(forecasted_values).reshape(forecast_steps, -1)"
   ]
  },
  {
   "cell_type": "code",
   "execution_count": 18,
   "metadata": {},
   "outputs": [
    {
     "data": {
      "text/plain": [
       "(12, 1)"
      ]
     },
     "execution_count": 18,
     "metadata": {},
     "output_type": "execute_result"
    }
   ],
   "source": [
    "forecasted_values.shape"
   ]
  },
  {
   "cell_type": "code",
   "execution_count": 29,
   "metadata": {},
   "outputs": [],
   "source": [
    "forecasted_values = scaler.inverse_transform(forecasted_values)"
   ]
  },
  {
   "cell_type": "code",
   "execution_count": 30,
   "metadata": {},
   "outputs": [
    {
     "data": {
      "text/plain": [
       "DatetimeIndex(['2023-10-08', '2023-10-09', '2023-10-10', '2023-10-11',\n",
       "               '2023-10-12', '2023-10-13', '2023-10-14', '2023-10-15',\n",
       "               '2023-10-16', '2023-10-17', '2023-10-18', '2023-10-19'],\n",
       "              dtype='datetime64[ns]', freq='D')"
      ]
     },
     "execution_count": 30,
     "metadata": {},
     "output_type": "execute_result"
    }
   ],
   "source": [
    "# Create a DataFrame to store the forecasted values with appropriate timestamps\n",
    "future_dates = pd.date_range(start=df_sale.index[-1] + pd.DateOffset(days=1),\n",
    "                             periods=forecast_steps)\n",
    "\n",
    "future_dates"
   ]
  },
  {
   "cell_type": "code",
   "execution_count": 31,
   "metadata": {},
   "outputs": [],
   "source": [
    "forecast_df = pd.DataFrame(data=forecasted_values, columns=df_sale.columns,\n",
    "                           index=future_dates)"
   ]
  },
  {
   "cell_type": "code",
   "execution_count": 32,
   "metadata": {},
   "outputs": [
    {
     "data": {
      "text/html": [
       "<div>\n",
       "<style scoped>\n",
       "    .dataframe tbody tr th:only-of-type {\n",
       "        vertical-align: middle;\n",
       "    }\n",
       "\n",
       "    .dataframe tbody tr th {\n",
       "        vertical-align: top;\n",
       "    }\n",
       "\n",
       "    .dataframe thead th {\n",
       "        text-align: right;\n",
       "    }\n",
       "</style>\n",
       "<table border=\"1\" class=\"dataframe\">\n",
       "  <thead>\n",
       "    <tr style=\"text-align: right;\">\n",
       "      <th></th>\n",
       "      <th>SR_TotalSalePrice</th>\n",
       "    </tr>\n",
       "  </thead>\n",
       "  <tbody>\n",
       "    <tr>\n",
       "      <th>2023-10-08</th>\n",
       "      <td>3.118197e+11</td>\n",
       "    </tr>\n",
       "    <tr>\n",
       "      <th>2023-10-09</th>\n",
       "      <td>3.074968e+11</td>\n",
       "    </tr>\n",
       "    <tr>\n",
       "      <th>2023-10-10</th>\n",
       "      <td>3.038919e+11</td>\n",
       "    </tr>\n",
       "    <tr>\n",
       "      <th>2023-10-11</th>\n",
       "      <td>2.992575e+11</td>\n",
       "    </tr>\n",
       "    <tr>\n",
       "      <th>2023-10-12</th>\n",
       "      <td>2.917508e+11</td>\n",
       "    </tr>\n",
       "    <tr>\n",
       "      <th>2023-10-13</th>\n",
       "      <td>2.839742e+11</td>\n",
       "    </tr>\n",
       "    <tr>\n",
       "      <th>2023-10-14</th>\n",
       "      <td>2.783326e+11</td>\n",
       "    </tr>\n",
       "    <tr>\n",
       "      <th>2023-10-15</th>\n",
       "      <td>2.714131e+11</td>\n",
       "    </tr>\n",
       "    <tr>\n",
       "      <th>2023-10-16</th>\n",
       "      <td>2.659815e+11</td>\n",
       "    </tr>\n",
       "    <tr>\n",
       "      <th>2023-10-17</th>\n",
       "      <td>2.605478e+11</td>\n",
       "    </tr>\n",
       "    <tr>\n",
       "      <th>2023-10-18</th>\n",
       "      <td>2.551424e+11</td>\n",
       "    </tr>\n",
       "    <tr>\n",
       "      <th>2023-10-19</th>\n",
       "      <td>2.498018e+11</td>\n",
       "    </tr>\n",
       "  </tbody>\n",
       "</table>\n",
       "</div>"
      ],
      "text/plain": [
       "            SR_TotalSalePrice\n",
       "2023-10-08       3.118197e+11\n",
       "2023-10-09       3.074968e+11\n",
       "2023-10-10       3.038919e+11\n",
       "2023-10-11       2.992575e+11\n",
       "2023-10-12       2.917508e+11\n",
       "2023-10-13       2.839742e+11\n",
       "2023-10-14       2.783326e+11\n",
       "2023-10-15       2.714131e+11\n",
       "2023-10-16       2.659815e+11\n",
       "2023-10-17       2.605478e+11\n",
       "2023-10-18       2.551424e+11\n",
       "2023-10-19       2.498018e+11"
      ]
     },
     "execution_count": 32,
     "metadata": {},
     "output_type": "execute_result"
    }
   ],
   "source": [
    "forecast_df"
   ]
  },
  {
   "cell_type": "code",
   "execution_count": 59,
   "metadata": {},
   "outputs": [
    {
     "data": {
      "text/html": [
       "<div>\n",
       "<style scoped>\n",
       "    .dataframe tbody tr th:only-of-type {\n",
       "        vertical-align: middle;\n",
       "    }\n",
       "\n",
       "    .dataframe tbody tr th {\n",
       "        vertical-align: top;\n",
       "    }\n",
       "\n",
       "    .dataframe thead th {\n",
       "        text-align: right;\n",
       "    }\n",
       "</style>\n",
       "<table border=\"1\" class=\"dataframe\">\n",
       "  <thead>\n",
       "    <tr style=\"text-align: right;\">\n",
       "      <th></th>\n",
       "      <th>SR_TotalSalePrice</th>\n",
       "    </tr>\n",
       "    <tr>\n",
       "      <th>DateKey</th>\n",
       "      <th></th>\n",
       "    </tr>\n",
       "  </thead>\n",
       "  <tbody>\n",
       "    <tr>\n",
       "      <th>2023-10-07</th>\n",
       "      <td>3.378790e+11</td>\n",
       "    </tr>\n",
       "    <tr>\n",
       "      <th>2023-10-08</th>\n",
       "      <td>3.122793e+11</td>\n",
       "    </tr>\n",
       "    <tr>\n",
       "      <th>2023-10-09</th>\n",
       "      <td>3.128464e+11</td>\n",
       "    </tr>\n",
       "    <tr>\n",
       "      <th>2023-10-10</th>\n",
       "      <td>2.737864e+11</td>\n",
       "    </tr>\n",
       "    <tr>\n",
       "      <th>2023-10-11</th>\n",
       "      <td>2.168524e+11</td>\n",
       "    </tr>\n",
       "    <tr>\n",
       "      <th>2023-10-12</th>\n",
       "      <td>2.822693e+11</td>\n",
       "    </tr>\n",
       "    <tr>\n",
       "      <th>2023-10-13</th>\n",
       "      <td>NaN</td>\n",
       "    </tr>\n",
       "  </tbody>\n",
       "</table>\n",
       "</div>"
      ],
      "text/plain": [
       "            SR_TotalSalePrice\n",
       "DateKey                      \n",
       "2023-10-07       3.378790e+11\n",
       "2023-10-08       3.122793e+11\n",
       "2023-10-09       3.128464e+11\n",
       "2023-10-10       2.737864e+11\n",
       "2023-10-11       2.168524e+11\n",
       "2023-10-12       2.822693e+11\n",
       "2023-10-13                NaN"
      ]
     },
     "execution_count": 59,
     "metadata": {},
     "output_type": "execute_result"
    }
   ],
   "source": [
    "df_future"
   ]
  },
  {
   "cell_type": "code",
   "execution_count": 64,
   "metadata": {},
   "outputs": [
    {
     "data": {
      "text/plain": [
       "-9481500000.0"
      ]
     },
     "execution_count": 64,
     "metadata": {},
     "output_type": "execute_result"
    }
   ],
   "source": [
    "2.822693e+11 - 2.917508e+11"
   ]
  },
  {
   "cell_type": "code",
   "execution_count": 62,
   "metadata": {},
   "outputs": [
    {
     "data": {
      "text/plain": [
       "312279300000.0"
      ]
     },
     "execution_count": 62,
     "metadata": {},
     "output_type": "execute_result"
    }
   ],
   "source": [
    "3.122793e+11"
   ]
  },
  {
   "cell_type": "code",
   "execution_count": 57,
   "metadata": {},
   "outputs": [],
   "source": [
    "df_future.drop(columns=['PersianStr', 'persian_holiday', 'SR_TotalGrossWeight', 'SR_TotalNetWeight'], inplace=True)\n",
    "df_future.set_index('DateKey', inplace=True)"
   ]
  },
  {
   "cell_type": "code",
   "execution_count": 58,
   "metadata": {},
   "outputs": [
    {
     "data": {
      "text/plain": [
       "2023-10-07             NaN\n",
       "2023-10-08    4.596232e+08\n",
       "2023-10-09    5.349547e+09\n",
       "2023-10-10   -3.010555e+10\n",
       "2023-10-11   -8.240509e+10\n",
       "2023-10-12   -9.481477e+09\n",
       "2023-10-13             NaN\n",
       "2023-10-14             NaN\n",
       "2023-10-15             NaN\n",
       "2023-10-16             NaN\n",
       "2023-10-17             NaN\n",
       "2023-10-18             NaN\n",
       "2023-10-19             NaN\n",
       "Name: SR_TotalSalePrice, dtype: float64"
      ]
     },
     "execution_count": 58,
     "metadata": {},
     "output_type": "execute_result"
    }
   ],
   "source": [
    "df_future.SR_TotalSalePrice - forecast_df.SR_TotalSalePrice"
   ]
  },
  {
   "cell_type": "code",
   "execution_count": 54,
   "metadata": {},
   "outputs": [
    {
     "data": {
      "image/png": "[encoded data removed]",
      "text/plain": [
       "<Figure size 2000x620 with 1 Axes>"
      ]
     },
     "metadata": {},
     "output_type": "display_data"
    }
   ],
   "source": [
    "plt.figure(figsize=(20, 6.2));\n",
    "\n",
    "sns.lineplot(data=df_future,\n",
    "             x=df_future.DateKey, y=df_future['SR_TotalSalePrice'],\n",
    "             color='b')\n",
    "sns.lineplot(\n",
    "             x=forecast_df.index, y=forecast_df['SR_TotalSalePrice'],\n",
    "             color='r')\n",
    "\n",
    "plt.grid()"
   ]
  }
 ],
 "metadata": {
  "kernelspec": {
   "display_name": "ML",
   "language": "python",
   "name": "python3"
  },
  "language_info": {
   "codemirror_mode": {
    "name": "ipython",
    "version": 3
   },
   "file_extension": ".py",
   "mimetype": "text/x-python",
   "name": "python",
   "nbconvert_exporter": "python",
   "pygments_lexer": "ipython3",
   "version": "3.9.13"
  }
 },
 "nbformat": 4,
 "nbformat_minor": 2
}
